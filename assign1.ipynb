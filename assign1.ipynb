{
 "cells": [
  {
   "cell_type": "markdown",
   "metadata": {},
   "source": [
    "# Find the length of the loop and print the bracelet"
   ]
  },
  {
   "cell_type": "code",
   "execution_count": 6,
   "metadata": {},
   "outputs": [
    {
     "name": "stdout",
     "output_type": "stream",
     "text": [
      "The length of the loop is: 60\n",
      "The sequence is: [0, 1, 1, 2, 3, 5, 8, 3, 1, 4, 5, 9, 4, 3, 7, 0, 7, 7, 4, 1, 5, 6, 1, 7, 8, 5, 3, 8, 1, 9, 0, 9, 9, 8, 7, 5, 2, 7, 9, 6, 5, 1, 6, 7, 3, 0, 3, 3, 6, 9, 5, 4, 9, 3, 2, 5, 7, 2, 9, 1, 0]\n"
     ]
    }
   ],
   "source": [
    "def number_bracelet():\n",
    "    # Initialize the first two numbers\n",
    "    num1 = int(input(\"Enter the first number (less than 10): \"))\n",
    "    num2 = int(input(\"Enter the second number (less than 10): \"))\n",
    "\n",
    "\n",
    "    # Generate the sequence\n",
    "    sequence = [num1, num2]\n",
    "    # Keep track of seen pairs and their indices so that when a new round of same numbers appear, it will stop\n",
    "    seen = {(num1, num2): 0}  \n",
    "\n",
    "    for i in range(1, 10000):  # Upper limit to prevent infinite loop, which in this case should be 100. But just in case...\n",
    "        next_num = (sequence[-2] + sequence[-1]) % 10\n",
    "        sequence.append(next_num)\n",
    "\n",
    "        # Check if any repetition occurs\n",
    "        if (sequence[-2], sequence[-1]) in seen:\n",
    "            print(\"The length of the loop is:\", i)\n",
    "            repeated_index = seen[(sequence[-2], sequence[-1])]\n",
    "            print(\"The sequence is:\", sequence[repeated_index:i+1])\n",
    "            return\n",
    "        else:\n",
    "            seen[(sequence[-2], sequence[-1])] = i\n",
    "\n",
    "    print(\"Reached the upper limit.\")\n",
    "\n",
    "# Print the sequence until repetition found\n",
    "number_bracelet()\n"
   ]
  },
  {
   "cell_type": "markdown",
   "metadata": {},
   "source": [
    "# Proof of number of different sequences"
   ]
  },
  {
   "cell_type": "code",
   "execution_count": 16,
   "metadata": {},
   "outputs": [
    {
     "name": "stdout",
     "output_type": "stream",
     "text": [
      "The number of different sequences is: 100\n"
     ]
    }
   ],
   "source": [
    "def number_bracelet_proof(a, b, n):\n",
    "    sequence = [a, b]\n",
    "    \n",
    "    for _ in range(n - 2):\n",
    "        next_number = (sequence[-2] + sequence[-1]) % 10\n",
    "        sequence.append(next_number)\n",
    "    \n",
    "    return sequence\n",
    "\n",
    "def count_different_sequences():\n",
    "    different_sequences = set()\n",
    "\n",
    "    for a in range(10):\n",
    "        for b in range(10):\n",
    "            sequence = number_bracelet_proof(a, b, 1000) \n",
    "            different_sequences.add(tuple(sequence))\n",
    "\n",
    "    return len(different_sequences)\n",
    "\n",
    "result = count_different_sequences()\n",
    "print(f'The number of different sequences is: {result}')\n"
   ]
  },
  {
   "cell_type": "markdown",
   "metadata": {},
   "source": [
    "# Check whether there are bracelets with the same length of loop"
   ]
  },
  {
   "cell_type": "code",
   "execution_count": 19,
   "metadata": {},
   "outputs": [
    {
     "name": "stdout",
     "output_type": "stream",
     "text": [
      "There are loops with the same length.\n"
     ]
    }
   ],
   "source": [
    "def number_bracelet_loop(a, b, n):\n",
    "    sequence = [a, b]\n",
    "    loop_length = 0\n",
    "\n",
    "    for i in range(2, n):\n",
    "        next_number = (sequence[-2] + sequence[-1]) % 10\n",
    "        sequence.append(next_number)\n",
    "\n",
    "        # Check if a loop is found\n",
    "        if sequence[-2:] == sequence[:2]:\n",
    "            loop_length = i - 1\n",
    "            break\n",
    "\n",
    "    return loop_length\n",
    "\n",
    "def check_for_same_loop_length():\n",
    "    loop_lengths = set()\n",
    "\n",
    "    for a in range(10):\n",
    "        for b in range(10):\n",
    "            loop_length = number_bracelet_loop(a, b, 1000) \n",
    "\n",
    "            if loop_length in loop_lengths:\n",
    "                print(\"There are loops with the same length.\")\n",
    "                return  # exit early, as we only need to know if there is any repetition\n",
    "\n",
    "            loop_lengths.add(loop_length)\n",
    "\n",
    "    print(\"All loops have different lengths.\")\n",
    "\n",
    "check_for_same_loop_length()\n"
   ]
  },
  {
   "cell_type": "markdown",
   "metadata": {},
   "source": [
    "# Check how many sequences (bracelets) are there with the same loop length"
   ]
  },
  {
   "cell_type": "code",
   "execution_count": 20,
   "metadata": {},
   "outputs": [
    {
     "name": "stdout",
     "output_type": "stream",
     "text": [
      "Loop Lengths and Number:\n",
      "Length 1: 1 sequences\n",
      "Length 60: 60 sequences\n",
      "Length 20: 20 sequences\n",
      "Length 3: 3 sequences\n",
      "Length 12: 12 sequences\n",
      "Length 4: 4 sequences\n"
     ]
    }
   ],
   "source": [
    "def number_bracelet_new(a, b, n):\n",
    "    sequence = [a, b]\n",
    "    loop_length = 0\n",
    "\n",
    "    for i in range(2, n):\n",
    "        next_number = (sequence[-2] + sequence[-1]) % 10\n",
    "        sequence.append(next_number)\n",
    "\n",
    "        # Check if a loop is found\n",
    "        if sequence[-2:] == sequence[:2]:\n",
    "            loop_length = i - 1\n",
    "            break\n",
    "\n",
    "    return sequence, loop_length\n",
    "\n",
    "def count_unique_loop_lengths():\n",
    "    loop_length_counts = {}\n",
    "\n",
    "    for a in range(10):\n",
    "        for b in range(10):\n",
    "            sequence, loop_length = number_bracelet_new(a, b, 1000)  \n",
    "\n",
    "            if loop_length not in loop_length_counts:\n",
    "                loop_length_counts[loop_length] = 1\n",
    "            else:\n",
    "                loop_length_counts[loop_length] += 1\n",
    "\n",
    "    return loop_length_counts\n",
    "\n",
    "result = count_unique_loop_lengths()\n",
    "print('Loop Lengths and Number:')\n",
    "for length, count in result.items():\n",
    "    print(f'Length {length}: {count} sequences')\n"
   ]
  },
  {
   "cell_type": "markdown",
   "metadata": {},
   "source": [
    "# Find the starting two numbers given the loop length"
   ]
  },
  {
   "cell_type": "code",
   "execution_count": 21,
   "metadata": {},
   "outputs": [
    {
     "name": "stdout",
     "output_type": "stream",
     "text": [
      "Starting values for a loop length of 1:\n",
      "Start values: (0, 0)\n"
     ]
    }
   ],
   "source": [
    "def number_bracelet_reverse(a, b, n):\n",
    "    sequence = [a, b]\n",
    "    loop_length = 0\n",
    "\n",
    "    for i in range(2, n):\n",
    "        next_number = (sequence[-2] + sequence[-1]) % 10\n",
    "        sequence.append(next_number)\n",
    "\n",
    "        # Check if a loop is found\n",
    "        if sequence[-2:] == sequence[:2]:\n",
    "            loop_length = i - 1\n",
    "            break\n",
    "\n",
    "    return sequence, loop_length\n",
    "\n",
    "\n",
    "def find_starting_values_for_loop_length(target_loop_length):\n",
    "    starting_values = []\n",
    "\n",
    "    for a in range(10):\n",
    "        for b in range(10):\n",
    "            _, loop_length = number_bracelet_reverse(a, b, 100)  # Adjust the length as needed\n",
    "\n",
    "            if loop_length == target_loop_length:\n",
    "                starting_values.append((a, b))\n",
    "\n",
    "    return starting_values\n",
    "\n",
    "target_loop_length = int(input(\"Enter the loop length: \"))\n",
    "result = find_starting_values_for_loop_length(target_loop_length)\n",
    "\n",
    "print(f\"Starting values for a loop length of {target_loop_length}:\")\n",
    "for start_values in result:\n",
    "    print(f\"Start values: {start_values}\")\n"
   ]
  }
 ],
 "metadata": {
  "kernelspec": {
   "display_name": "Python 3",
   "language": "python",
   "name": "python3"
  },
  "language_info": {
   "codemirror_mode": {
    "name": "ipython",
    "version": 3
   },
   "file_extension": ".py",
   "mimetype": "text/x-python",
   "name": "python",
   "nbconvert_exporter": "python",
   "pygments_lexer": "ipython3",
   "version": "3.7.6"
  }
 },
 "nbformat": 4,
 "nbformat_minor": 2
}
